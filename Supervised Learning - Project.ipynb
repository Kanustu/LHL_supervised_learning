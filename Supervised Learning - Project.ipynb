{
 "cells": [
  {
   "cell_type": "markdown",
   "id": "3e985673",
   "metadata": {},
   "source": [
    "# Supervised Learning - Project"
   ]
  },
  {
   "cell_type": "markdown",
   "id": "08aa509e",
   "metadata": {},
   "source": [
    "In this Project, we are going to perform a full supervised learning machine learning project on a \"Diabetes\" dataset. This dataset is originally from the National Institute of Diabetes and Digestive and Kidney\n",
    "Diseases. The objective of the dataset is to diagnostically predict whether a patient has diabetes,\n",
    "based on certain diagnostic measurements included in the dataset. \n",
    "\n",
    "[Kaggle Dataset](https://www.kaggle.com/datasets/akshaydattatraykhare/diabetes-dataset)"
   ]
  },
  {
   "cell_type": "markdown",
   "id": "4e3e6a19",
   "metadata": {},
   "source": [
    "# Part I : EDA - Exploratory Data Analysis"
   ]
  },
  {
   "cell_type": "markdown",
   "id": "0d46714a",
   "metadata": {},
   "source": [
    "For this task, you are required to conduct an exploratory data analysis on the diabetes dataset. You have the freedom to choose the visualizations you want to use, but your analysis should cover the following tasks mostly:\n",
    "\n",
    "- Are there any missing values in the dataset?\n",
    "- How are the predictor variables related to the outcome variable?\n",
    "- What is the correlation between the predictor variables?\n",
    "- What is the distribution of each predictor variable?\n",
    "- Are there any outliers in the predictor variables?\n",
    "- How are the predictor variables related to each other?\n",
    "- Is there any interaction effect between the predictor variables?\n",
    "- What is the average age of the individuals in the dataset?\n",
    "- What is the average glucose level for individuals with diabetes and without diabetes?\n",
    "- What is the average BMI for individuals with diabetes and without diabetes?\n",
    "- How does the distribution of the predictor variables differ for individuals with diabetes and without diabetes?\n",
    "- Are there any differences in the predictor variables between males and females (if gender information is available)?"
   ]
  },
  {
   "cell_type": "code",
   "execution_count": 1,
   "id": "3041e6a8",
   "metadata": {},
   "outputs": [],
   "source": [
    "# Import neccessarry libraries\n",
    "import pandas as pd\n",
    "import numpy as np\n",
    "import matplotlib.pyplot as plt\n",
    "import seaborn as sns"
   ]
  },
  {
   "cell_type": "code",
   "execution_count": 2,
   "id": "f87b1a5f-71ad-40ed-8205-eacd9c32d33a",
   "metadata": {},
   "outputs": [],
   "source": [
    "# Read CSV file into a dataframe\n",
    "df = pd.read_csv('diabetes.csv')"
   ]
  },
  {
   "cell_type": "code",
   "execution_count": 3,
   "id": "f937e40e-a36a-4bda-9f8a-28dfcd4ff3b9",
   "metadata": {},
   "outputs": [
    {
     "data": {
      "text/html": [
       "<div>\n",
       "<style scoped>\n",
       "    .dataframe tbody tr th:only-of-type {\n",
       "        vertical-align: middle;\n",
       "    }\n",
       "\n",
       "    .dataframe tbody tr th {\n",
       "        vertical-align: top;\n",
       "    }\n",
       "\n",
       "    .dataframe thead th {\n",
       "        text-align: right;\n",
       "    }\n",
       "</style>\n",
       "<table border=\"1\" class=\"dataframe\">\n",
       "  <thead>\n",
       "    <tr style=\"text-align: right;\">\n",
       "      <th></th>\n",
       "      <th>Pregnancies</th>\n",
       "      <th>Glucose</th>\n",
       "      <th>BloodPressure</th>\n",
       "      <th>SkinThickness</th>\n",
       "      <th>Insulin</th>\n",
       "      <th>BMI</th>\n",
       "      <th>DiabetesPedigreeFunction</th>\n",
       "      <th>Age</th>\n",
       "      <th>Outcome</th>\n",
       "    </tr>\n",
       "  </thead>\n",
       "  <tbody>\n",
       "    <tr>\n",
       "      <th>count</th>\n",
       "      <td>768.000000</td>\n",
       "      <td>768.000000</td>\n",
       "      <td>768.000000</td>\n",
       "      <td>768.000000</td>\n",
       "      <td>768.000000</td>\n",
       "      <td>768.000000</td>\n",
       "      <td>768.000000</td>\n",
       "      <td>768.000000</td>\n",
       "      <td>768.000000</td>\n",
       "    </tr>\n",
       "    <tr>\n",
       "      <th>mean</th>\n",
       "      <td>3.845052</td>\n",
       "      <td>120.894531</td>\n",
       "      <td>69.105469</td>\n",
       "      <td>20.536458</td>\n",
       "      <td>79.799479</td>\n",
       "      <td>31.992578</td>\n",
       "      <td>0.471876</td>\n",
       "      <td>33.240885</td>\n",
       "      <td>0.348958</td>\n",
       "    </tr>\n",
       "    <tr>\n",
       "      <th>std</th>\n",
       "      <td>3.369578</td>\n",
       "      <td>31.972618</td>\n",
       "      <td>19.355807</td>\n",
       "      <td>15.952218</td>\n",
       "      <td>115.244002</td>\n",
       "      <td>7.884160</td>\n",
       "      <td>0.331329</td>\n",
       "      <td>11.760232</td>\n",
       "      <td>0.476951</td>\n",
       "    </tr>\n",
       "    <tr>\n",
       "      <th>min</th>\n",
       "      <td>0.000000</td>\n",
       "      <td>0.000000</td>\n",
       "      <td>0.000000</td>\n",
       "      <td>0.000000</td>\n",
       "      <td>0.000000</td>\n",
       "      <td>0.000000</td>\n",
       "      <td>0.078000</td>\n",
       "      <td>21.000000</td>\n",
       "      <td>0.000000</td>\n",
       "    </tr>\n",
       "    <tr>\n",
       "      <th>25%</th>\n",
       "      <td>1.000000</td>\n",
       "      <td>99.000000</td>\n",
       "      <td>62.000000</td>\n",
       "      <td>0.000000</td>\n",
       "      <td>0.000000</td>\n",
       "      <td>27.300000</td>\n",
       "      <td>0.243750</td>\n",
       "      <td>24.000000</td>\n",
       "      <td>0.000000</td>\n",
       "    </tr>\n",
       "    <tr>\n",
       "      <th>50%</th>\n",
       "      <td>3.000000</td>\n",
       "      <td>117.000000</td>\n",
       "      <td>72.000000</td>\n",
       "      <td>23.000000</td>\n",
       "      <td>30.500000</td>\n",
       "      <td>32.000000</td>\n",
       "      <td>0.372500</td>\n",
       "      <td>29.000000</td>\n",
       "      <td>0.000000</td>\n",
       "    </tr>\n",
       "    <tr>\n",
       "      <th>75%</th>\n",
       "      <td>6.000000</td>\n",
       "      <td>140.250000</td>\n",
       "      <td>80.000000</td>\n",
       "      <td>32.000000</td>\n",
       "      <td>127.250000</td>\n",
       "      <td>36.600000</td>\n",
       "      <td>0.626250</td>\n",
       "      <td>41.000000</td>\n",
       "      <td>1.000000</td>\n",
       "    </tr>\n",
       "    <tr>\n",
       "      <th>max</th>\n",
       "      <td>17.000000</td>\n",
       "      <td>199.000000</td>\n",
       "      <td>122.000000</td>\n",
       "      <td>99.000000</td>\n",
       "      <td>846.000000</td>\n",
       "      <td>67.100000</td>\n",
       "      <td>2.420000</td>\n",
       "      <td>81.000000</td>\n",
       "      <td>1.000000</td>\n",
       "    </tr>\n",
       "  </tbody>\n",
       "</table>\n",
       "</div>"
      ],
      "text/plain": [
       "       Pregnancies     Glucose  BloodPressure  SkinThickness     Insulin  \\\n",
       "count   768.000000  768.000000     768.000000     768.000000  768.000000   \n",
       "mean      3.845052  120.894531      69.105469      20.536458   79.799479   \n",
       "std       3.369578   31.972618      19.355807      15.952218  115.244002   \n",
       "min       0.000000    0.000000       0.000000       0.000000    0.000000   \n",
       "25%       1.000000   99.000000      62.000000       0.000000    0.000000   \n",
       "50%       3.000000  117.000000      72.000000      23.000000   30.500000   \n",
       "75%       6.000000  140.250000      80.000000      32.000000  127.250000   \n",
       "max      17.000000  199.000000     122.000000      99.000000  846.000000   \n",
       "\n",
       "              BMI  DiabetesPedigreeFunction         Age     Outcome  \n",
       "count  768.000000                768.000000  768.000000  768.000000  \n",
       "mean    31.992578                  0.471876   33.240885    0.348958  \n",
       "std      7.884160                  0.331329   11.760232    0.476951  \n",
       "min      0.000000                  0.078000   21.000000    0.000000  \n",
       "25%     27.300000                  0.243750   24.000000    0.000000  \n",
       "50%     32.000000                  0.372500   29.000000    0.000000  \n",
       "75%     36.600000                  0.626250   41.000000    1.000000  \n",
       "max     67.100000                  2.420000   81.000000    1.000000  "
      ]
     },
     "execution_count": 3,
     "metadata": {},
     "output_type": "execute_result"
    }
   ],
   "source": [
    "# Generate descriptive statistics\n",
    "df.describe()"
   ]
  },
  {
   "cell_type": "markdown",
   "id": "f8c9eef8-52ae-4256-a0a1-5c8246c9e0d5",
   "metadata": {},
   "source": [
    "- Average age = 33.24\n",
    "- Average BMI = 31.99"
   ]
  },
  {
   "cell_type": "code",
   "execution_count": 4,
   "id": "f79f3726-1533-4db7-bc6a-ab86bfb7676d",
   "metadata": {},
   "outputs": [
    {
     "name": "stdout",
     "output_type": "stream",
     "text": [
      "<class 'pandas.core.frame.DataFrame'>\n",
      "RangeIndex: 768 entries, 0 to 767\n",
      "Data columns (total 9 columns):\n",
      " #   Column                    Non-Null Count  Dtype  \n",
      "---  ------                    --------------  -----  \n",
      " 0   Pregnancies               768 non-null    int64  \n",
      " 1   Glucose                   768 non-null    int64  \n",
      " 2   BloodPressure             768 non-null    int64  \n",
      " 3   SkinThickness             768 non-null    int64  \n",
      " 4   Insulin                   768 non-null    int64  \n",
      " 5   BMI                       768 non-null    float64\n",
      " 6   DiabetesPedigreeFunction  768 non-null    float64\n",
      " 7   Age                       768 non-null    int64  \n",
      " 8   Outcome                   768 non-null    int64  \n",
      "dtypes: float64(2), int64(7)\n",
      "memory usage: 54.1 KB\n"
     ]
    }
   ],
   "source": [
    "# Display summary information\n",
    "df.info()"
   ]
  },
  {
   "cell_type": "code",
   "execution_count": 5,
   "id": "f0944fd3-7d4b-47b1-af2c-fc700e745e87",
   "metadata": {},
   "outputs": [
    {
     "data": {
      "text/plain": [
       "(768, 9)"
      ]
     },
     "execution_count": 5,
     "metadata": {},
     "output_type": "execute_result"
    }
   ],
   "source": [
    "# Output the dimensions of the dataframe\n",
    "df.shape"
   ]
  },
  {
   "cell_type": "code",
   "execution_count": 6,
   "id": "d7bd1c43-8146-4f57-a282-5ee58ab293d6",
   "metadata": {},
   "outputs": [
    {
     "data": {
      "text/plain": [
       "Pregnancies                 0\n",
       "Glucose                     0\n",
       "BloodPressure               0\n",
       "SkinThickness               0\n",
       "Insulin                     0\n",
       "BMI                         0\n",
       "DiabetesPedigreeFunction    0\n",
       "Age                         0\n",
       "Outcome                     0\n",
       "dtype: int64"
      ]
     },
     "execution_count": 6,
     "metadata": {},
     "output_type": "execute_result"
    }
   ],
   "source": [
    "# Count the number of missing values in each column of the dataframe\n",
    "df.isnull().sum()"
   ]
  },
  {
   "cell_type": "code",
   "execution_count": 7,
   "id": "0b407109-ca79-4582-8dbf-fe5cef7d708b",
   "metadata": {},
   "outputs": [],
   "source": [
    "def is_zero(feature):\n",
    "    \"\"\"\n",
    "    Counts the occurrences of zero values in the specified feature within the DataFrame 'df'.\n",
    "\n",
    "    Parameters:\n",
    "    - feature: Name of the feature (column) in the DataFrame 'df' to check for zero values.\n",
    "\n",
    "    Returns:\n",
    "    - count: The number of occurrences where the specified feature's values are equal to zero.\n",
    "    \"\"\"\n",
    "    return (df[feature]==0).sum()\n",
    "\n",
    "\n",
    "def column_percentage(feature):\n",
    "    \"\"\"\n",
    "    Calculates the percentage of zero values in a specified column within the DataFrame 'df'.\n",
    "\n",
    "    Parameters:\n",
    "    - feature: Name of the column in the DataFrame 'df'.\n",
    "\n",
    "    Returns:\n",
    "    - percentage: The percentage of occurrences where the specified column's values are equal to zero.\n",
    "    \"\"\"\n",
    "    return (df[feature] == 0).sum()/df[feature].count() * 100\n",
    "\n",
    "def count_values(feature):\n",
    "    \"\"\"\n",
    "    Counts the occurrences of unique values in a specified column within the DataFrame 'df'.\n",
    "\n",
    "    Parameters:\n",
    "    - feature: Name of the column in the DataFrame 'df'.\n",
    "\n",
    "    Returns:\n",
    "    - value_counts: Series showing the count of each unique value in the specified column.\n",
    "    \"\"\"\n",
    "    return df[feature].value_counts()"
   ]
  },
  {
   "cell_type": "code",
   "execution_count": 8,
   "id": "e36ab840-73f8-48c0-bfea-14e3e046ae58",
   "metadata": {},
   "outputs": [
    {
     "name": "stdout",
     "output_type": "stream",
     "text": [
      "Pregnancies: 111\n",
      "Glucose: 5\n",
      "BloodPressure: 35\n",
      "SkinThickness: 227\n",
      "Insulin: 374\n",
      "BMI: 11\n",
      "DiabetesPedigreeFunction: 0\n",
      "Age: 0\n"
     ]
    }
   ],
   "source": [
    "# Iterate through each feature column in the DataFrame 'df', except the last one, and count the occurrences of zero values\n",
    "# Print the feature name and the count of zero occurrences for each feature\n",
    "for feature in df.columns[:-1]:\n",
    "    print(f'{feature}: {is_zero(feature)}')"
   ]
  },
  {
   "cell_type": "code",
   "execution_count": 9,
   "id": "aaf8c8d9-cb83-450d-87ea-d5a1094bef50",
   "metadata": {},
   "outputs": [
    {
     "name": "stdout",
     "output_type": "stream",
     "text": [
      "Pregnancies: 14.45%\n",
      "Glucose: 0.65%\n",
      "BloodPressure: 4.56%\n",
      "SkinThickness: 29.56%\n",
      "Insulin: 48.7%\n",
      "BMI: 1.43%\n"
     ]
    }
   ],
   "source": [
    "# Iterate through each feature column in the DataFrame 'df', excluding the last three columns\n",
    "# Calculate and print the percentage of zero occurrences for each feature\n",
    "for feature in df.columns[:-3]:\n",
    "    print(f'{feature}: {round(column_percentage(feature), 2)}%')"
   ]
  },
  {
   "cell_type": "code",
   "execution_count": 10,
   "id": "04965285-360d-4623-83a6-9948dac5586b",
   "metadata": {},
   "outputs": [
    {
     "data": {
      "text/html": [
       "<div>\n",
       "<style scoped>\n",
       "    .dataframe tbody tr th:only-of-type {\n",
       "        vertical-align: middle;\n",
       "    }\n",
       "\n",
       "    .dataframe tbody tr th {\n",
       "        vertical-align: top;\n",
       "    }\n",
       "\n",
       "    .dataframe thead th {\n",
       "        text-align: right;\n",
       "    }\n",
       "</style>\n",
       "<table border=\"1\" class=\"dataframe\">\n",
       "  <thead>\n",
       "    <tr style=\"text-align: right;\">\n",
       "      <th></th>\n",
       "      <th>Pregnancies</th>\n",
       "      <th>Glucose</th>\n",
       "      <th>BloodPressure</th>\n",
       "      <th>SkinThickness</th>\n",
       "      <th>Insulin</th>\n",
       "      <th>BMI</th>\n",
       "      <th>DiabetesPedigreeFunction</th>\n",
       "      <th>Age</th>\n",
       "      <th>Outcome</th>\n",
       "    </tr>\n",
       "  </thead>\n",
       "  <tbody>\n",
       "    <tr>\n",
       "      <th>0</th>\n",
       "      <td>6</td>\n",
       "      <td>148</td>\n",
       "      <td>72</td>\n",
       "      <td>35</td>\n",
       "      <td>0</td>\n",
       "      <td>33.6</td>\n",
       "      <td>0.627</td>\n",
       "      <td>50</td>\n",
       "      <td>1</td>\n",
       "    </tr>\n",
       "    <tr>\n",
       "      <th>1</th>\n",
       "      <td>1</td>\n",
       "      <td>85</td>\n",
       "      <td>66</td>\n",
       "      <td>29</td>\n",
       "      <td>0</td>\n",
       "      <td>26.6</td>\n",
       "      <td>0.351</td>\n",
       "      <td>31</td>\n",
       "      <td>0</td>\n",
       "    </tr>\n",
       "    <tr>\n",
       "      <th>2</th>\n",
       "      <td>8</td>\n",
       "      <td>183</td>\n",
       "      <td>64</td>\n",
       "      <td>0</td>\n",
       "      <td>0</td>\n",
       "      <td>23.3</td>\n",
       "      <td>0.672</td>\n",
       "      <td>32</td>\n",
       "      <td>1</td>\n",
       "    </tr>\n",
       "    <tr>\n",
       "      <th>3</th>\n",
       "      <td>1</td>\n",
       "      <td>89</td>\n",
       "      <td>66</td>\n",
       "      <td>23</td>\n",
       "      <td>94</td>\n",
       "      <td>28.1</td>\n",
       "      <td>0.167</td>\n",
       "      <td>21</td>\n",
       "      <td>0</td>\n",
       "    </tr>\n",
       "    <tr>\n",
       "      <th>4</th>\n",
       "      <td>0</td>\n",
       "      <td>137</td>\n",
       "      <td>40</td>\n",
       "      <td>35</td>\n",
       "      <td>168</td>\n",
       "      <td>43.1</td>\n",
       "      <td>2.288</td>\n",
       "      <td>33</td>\n",
       "      <td>1</td>\n",
       "    </tr>\n",
       "  </tbody>\n",
       "</table>\n",
       "</div>"
      ],
      "text/plain": [
       "   Pregnancies  Glucose  BloodPressure  SkinThickness  Insulin   BMI  \\\n",
       "0            6      148             72             35        0  33.6   \n",
       "1            1       85             66             29        0  26.6   \n",
       "2            8      183             64              0        0  23.3   \n",
       "3            1       89             66             23       94  28.1   \n",
       "4            0      137             40             35      168  43.1   \n",
       "\n",
       "   DiabetesPedigreeFunction  Age  Outcome  \n",
       "0                     0.627   50        1  \n",
       "1                     0.351   31        0  \n",
       "2                     0.672   32        1  \n",
       "3                     0.167   21        0  \n",
       "4                     2.288   33        1  "
      ]
     },
     "execution_count": 10,
     "metadata": {},
     "output_type": "execute_result"
    }
   ],
   "source": [
    "# Display the first few rows of the dataframe\n",
    "df.head()"
   ]
  },
  {
   "cell_type": "code",
   "execution_count": 11,
   "id": "286ad896-b835-4778-9001-db13ccd43c21",
   "metadata": {},
   "outputs": [
    {
     "data": {
      "text/html": [
       "<div>\n",
       "<style scoped>\n",
       "    .dataframe tbody tr th:only-of-type {\n",
       "        vertical-align: middle;\n",
       "    }\n",
       "\n",
       "    .dataframe tbody tr th {\n",
       "        vertical-align: top;\n",
       "    }\n",
       "\n",
       "    .dataframe thead th {\n",
       "        text-align: right;\n",
       "    }\n",
       "</style>\n",
       "<table border=\"1\" class=\"dataframe\">\n",
       "  <thead>\n",
       "    <tr style=\"text-align: right;\">\n",
       "      <th></th>\n",
       "      <th>Pregnancies</th>\n",
       "      <th>Glucose</th>\n",
       "      <th>BloodPressure</th>\n",
       "      <th>SkinThickness</th>\n",
       "      <th>Insulin</th>\n",
       "      <th>BMI</th>\n",
       "      <th>DiabetesPedigreeFunction</th>\n",
       "      <th>Age</th>\n",
       "      <th>Outcome</th>\n",
       "    </tr>\n",
       "  </thead>\n",
       "  <tbody>\n",
       "    <tr>\n",
       "      <th>763</th>\n",
       "      <td>10</td>\n",
       "      <td>101</td>\n",
       "      <td>76</td>\n",
       "      <td>48</td>\n",
       "      <td>180</td>\n",
       "      <td>32.9</td>\n",
       "      <td>0.171</td>\n",
       "      <td>63</td>\n",
       "      <td>0</td>\n",
       "    </tr>\n",
       "    <tr>\n",
       "      <th>764</th>\n",
       "      <td>2</td>\n",
       "      <td>122</td>\n",
       "      <td>70</td>\n",
       "      <td>27</td>\n",
       "      <td>0</td>\n",
       "      <td>36.8</td>\n",
       "      <td>0.340</td>\n",
       "      <td>27</td>\n",
       "      <td>0</td>\n",
       "    </tr>\n",
       "    <tr>\n",
       "      <th>765</th>\n",
       "      <td>5</td>\n",
       "      <td>121</td>\n",
       "      <td>72</td>\n",
       "      <td>23</td>\n",
       "      <td>112</td>\n",
       "      <td>26.2</td>\n",
       "      <td>0.245</td>\n",
       "      <td>30</td>\n",
       "      <td>0</td>\n",
       "    </tr>\n",
       "    <tr>\n",
       "      <th>766</th>\n",
       "      <td>1</td>\n",
       "      <td>126</td>\n",
       "      <td>60</td>\n",
       "      <td>0</td>\n",
       "      <td>0</td>\n",
       "      <td>30.1</td>\n",
       "      <td>0.349</td>\n",
       "      <td>47</td>\n",
       "      <td>1</td>\n",
       "    </tr>\n",
       "    <tr>\n",
       "      <th>767</th>\n",
       "      <td>1</td>\n",
       "      <td>93</td>\n",
       "      <td>70</td>\n",
       "      <td>31</td>\n",
       "      <td>0</td>\n",
       "      <td>30.4</td>\n",
       "      <td>0.315</td>\n",
       "      <td>23</td>\n",
       "      <td>0</td>\n",
       "    </tr>\n",
       "  </tbody>\n",
       "</table>\n",
       "</div>"
      ],
      "text/plain": [
       "     Pregnancies  Glucose  BloodPressure  SkinThickness  Insulin   BMI  \\\n",
       "763           10      101             76             48      180  32.9   \n",
       "764            2      122             70             27        0  36.8   \n",
       "765            5      121             72             23      112  26.2   \n",
       "766            1      126             60              0        0  30.1   \n",
       "767            1       93             70             31        0  30.4   \n",
       "\n",
       "     DiabetesPedigreeFunction  Age  Outcome  \n",
       "763                     0.171   63        0  \n",
       "764                     0.340   27        0  \n",
       "765                     0.245   30        0  \n",
       "766                     0.349   47        1  \n",
       "767                     0.315   23        0  "
      ]
     },
     "execution_count": 11,
     "metadata": {},
     "output_type": "execute_result"
    }
   ],
   "source": [
    "# Display the last few rows of the dataframe\n",
    "df.tail()"
   ]
  },
  {
   "cell_type": "code",
   "execution_count": 12,
   "id": "2f522c5d-7b27-416c-800f-0202d3de971e",
   "metadata": {},
   "outputs": [
    {
     "data": {
      "text/html": [
       "<div>\n",
       "<style scoped>\n",
       "    .dataframe tbody tr th:only-of-type {\n",
       "        vertical-align: middle;\n",
       "    }\n",
       "\n",
       "    .dataframe tbody tr th {\n",
       "        vertical-align: top;\n",
       "    }\n",
       "\n",
       "    .dataframe thead th {\n",
       "        text-align: right;\n",
       "    }\n",
       "</style>\n",
       "<table border=\"1\" class=\"dataframe\">\n",
       "  <thead>\n",
       "    <tr style=\"text-align: right;\">\n",
       "      <th></th>\n",
       "      <th>Pregnancies</th>\n",
       "      <th>Glucose</th>\n",
       "      <th>BloodPressure</th>\n",
       "      <th>SkinThickness</th>\n",
       "      <th>Insulin</th>\n",
       "      <th>BMI</th>\n",
       "      <th>DiabetesPedigreeFunction</th>\n",
       "      <th>Age</th>\n",
       "      <th>Outcome</th>\n",
       "    </tr>\n",
       "  </thead>\n",
       "  <tbody>\n",
       "    <tr>\n",
       "      <th>466</th>\n",
       "      <td>0</td>\n",
       "      <td>74</td>\n",
       "      <td>52</td>\n",
       "      <td>10</td>\n",
       "      <td>36</td>\n",
       "      <td>27.8</td>\n",
       "      <td>0.269</td>\n",
       "      <td>22</td>\n",
       "      <td>0</td>\n",
       "    </tr>\n",
       "    <tr>\n",
       "      <th>585</th>\n",
       "      <td>1</td>\n",
       "      <td>93</td>\n",
       "      <td>56</td>\n",
       "      <td>11</td>\n",
       "      <td>0</td>\n",
       "      <td>22.5</td>\n",
       "      <td>0.417</td>\n",
       "      <td>22</td>\n",
       "      <td>0</td>\n",
       "    </tr>\n",
       "    <tr>\n",
       "      <th>722</th>\n",
       "      <td>1</td>\n",
       "      <td>149</td>\n",
       "      <td>68</td>\n",
       "      <td>29</td>\n",
       "      <td>127</td>\n",
       "      <td>29.3</td>\n",
       "      <td>0.349</td>\n",
       "      <td>42</td>\n",
       "      <td>1</td>\n",
       "    </tr>\n",
       "    <tr>\n",
       "      <th>474</th>\n",
       "      <td>4</td>\n",
       "      <td>114</td>\n",
       "      <td>64</td>\n",
       "      <td>0</td>\n",
       "      <td>0</td>\n",
       "      <td>28.9</td>\n",
       "      <td>0.126</td>\n",
       "      <td>24</td>\n",
       "      <td>0</td>\n",
       "    </tr>\n",
       "    <tr>\n",
       "      <th>231</th>\n",
       "      <td>6</td>\n",
       "      <td>134</td>\n",
       "      <td>80</td>\n",
       "      <td>37</td>\n",
       "      <td>370</td>\n",
       "      <td>46.2</td>\n",
       "      <td>0.238</td>\n",
       "      <td>46</td>\n",
       "      <td>1</td>\n",
       "    </tr>\n",
       "  </tbody>\n",
       "</table>\n",
       "</div>"
      ],
      "text/plain": [
       "     Pregnancies  Glucose  BloodPressure  SkinThickness  Insulin   BMI  \\\n",
       "466            0       74             52             10       36  27.8   \n",
       "585            1       93             56             11        0  22.5   \n",
       "722            1      149             68             29      127  29.3   \n",
       "474            4      114             64              0        0  28.9   \n",
       "231            6      134             80             37      370  46.2   \n",
       "\n",
       "     DiabetesPedigreeFunction  Age  Outcome  \n",
       "466                     0.269   22        0  \n",
       "585                     0.417   22        0  \n",
       "722                     0.349   42        1  \n",
       "474                     0.126   24        0  \n",
       "231                     0.238   46        1  "
      ]
     },
     "execution_count": 12,
     "metadata": {},
     "output_type": "execute_result"
    }
   ],
   "source": [
    "# Display a random sample of 5 rows from the dataframe\n",
    "df.sample(5)"
   ]
  },
  {
   "cell_type": "code",
   "execution_count": 13,
   "id": "e9787ece-27d5-4ba0-9720-9d3b74ecebfc",
   "metadata": {},
   "outputs": [
    {
     "data": {
      "text/plain": [
       "<Axes: >"
      ]
     },
     "execution_count": 13,
     "metadata": {},
     "output_type": "execute_result"
    },
    {
     "data": {
      "image/png": "[encoded data removed]",
      "text/plain": [
       "<Figure size 432x288 with 2 Axes>"
      ]
     },
     "metadata": {
      "needs_background": "light"
     },
     "output_type": "display_data"
    }
   ],
   "source": [
    "# Display a heatmap showing the correlation matrix of the DataFrame\n",
    "# Include annotations and set the linewidth between cells to 0.5\n",
    "sns.heatmap(df.corr(), annot=True, linewidth=.5)"
   ]
  },
  {
   "cell_type": "markdown",
   "id": "307e4a0d-9ddf-49f3-9fc2-f29e06113ea4",
   "metadata": {},
   "source": [
    "- Glucose has the highest correlation with Outcome"
   ]
  },
  {
   "cell_type": "code",
   "execution_count": 14,
   "id": "19249b08-cfa0-4c55-aa1f-eb36c61f21f9",
   "metadata": {},
   "outputs": [],
   "source": [
    "def hist_plot(df, column):\n",
    "    \"\"\"\n",
    "    Display a histogram plot for a specified column within the DataFrame 'df'.\n",
    "\n",
    "    Parameters:\n",
    "    - df: DataFrame containing the dataset.\n",
    "    - column: Name of the column in the DataFrame 'df' to be plotted.\n",
    "    \"\"\"\n",
    "    sns.histplot(df, x=column)\n",
    "    plt.title(column, fontsize=16)\n",
    "\n",
    "    \n",
    "def multi_hist_plot(df, column, axis):\n",
    "    \"\"\"\n",
    "    Display a histogram plot for a specified column within the DataFrame on a specified axis.\n",
    "\n",
    "    Parameters:\n",
    "    - df: DataFrame containing the dataset.\n",
    "    - column: Name of the column in the DataFrame 'df' to be plotted.\n",
    "    - axis: Axis on which to plot the histogram.\n",
    "\n",
    "    Returns:\n",
    "    - None\n",
    "    \"\"\"\n",
    "    sns.histplot(df, x=column, ax=axes[axis])\n",
    "\n",
    "    \n",
    "def box_plot(column):\n",
    "    \"\"\"\n",
    "    Display a boxplot for a specified column within the DataFrame 'df'.\n",
    "\n",
    "    Parameters:\n",
    "    - data: Name of the column in the DataFrame 'df' for which a boxplot will be created.\n",
    "    \"\"\"\n",
    "    sns.boxplot(df[column])\n",
    "    plt.title(data, fontsize=16)\n",
    "\n",
    "\n",
    "def multi_box_plot(df, column, axis):\n",
    "    \"\"\"\n",
    "    Display a boxplot for a specified column within the DataFrame 'df' on a specified axis.\n",
    "\n",
    "    Parameters:\n",
    "    - df: DataFrame containing the dataset.\n",
    "    - column: Name of the column in the DataFrame 'df' to be plotted.\n",
    "    - axis: Axis on which to plot the boxplot.\n",
    "    \"\"\"\n",
    "    sns.boxplot(df, x=column, ax=axes[axis])\n"
   ]
  },
  {
   "cell_type": "code",
   "execution_count": 15,
   "id": "682287f5-680b-473c-980f-4d1c8052ae0a",
   "metadata": {},
   "outputs": [
    {
     "data": {
      "image/png": "[encoded data removed]",
      "text/plain": [
       "<Figure size 864x720 with 8 Axes>"
      ]
     },
     "metadata": {
      "needs_background": "light"
     },
     "output_type": "display_data"
    }
   ],
   "source": [
    "# Create subplots with a 4x2 grid layout and set the overall figure size\n",
    "fig, axes = plt.subplots(4, 2, figsize=(12, 10))\n",
    "\n",
    "# Adjust spacing between subplots and set the title for the entire figure\n",
    "fig.subplots_adjust(hspace=0.30, wspace=0.125)\n",
    "fig.suptitle('Data Distribution')\n",
    "\n",
    "# List of axis positions for each subplot\n",
    "axis_list = [(0,0),(0,1),(1,0),(1,1),(2,0),(2,1),(3,0),(3,1),(4,0),(4,1)]\n",
    "\n",
    "# Iterate through the columns of the DataFrame to create multiple histogram plots on different subplots\n",
    "for x in range(len(df.columns[:-1])):\n",
    "    multi_hist_plot(df, df.columns[x], axis_list[x])\n"
   ]
  },
  {
   "cell_type": "code",
   "execution_count": 16,
   "id": "c4c8ba40-7412-49b1-8d8d-976cb6c6fe06",
   "metadata": {},
   "outputs": [
    {
     "data": {
      "image/png": "[encoded data removed]",
      "text/plain": [
       "<Figure size 864x720 with 8 Axes>"
      ]
     },
     "metadata": {
      "needs_background": "light"
     },
     "output_type": "display_data"
    }
   ],
   "source": [
    "# Create subplots with a 4x2 grid layout and set the overall figure size\n",
    "fig, axes = plt.subplots(4, 2, figsize=(12, 10))\n",
    "\n",
    "# Adjust spacing between subplots and set the title for the entire figure\n",
    "fig.subplots_adjust(hspace=0.35, wspace=0.125)\n",
    "fig.suptitle('Data Outliers')\n",
    "\n",
    "# Iterate through the columns of the DataFrame to create multiple box plots on different subplots\n",
    "for x in range(len(df.columns[:-1])):\n",
    "    multi_box_plot(df, df.columns[x], axis_list[x])\n"
   ]
  },
  {
   "cell_type": "code",
   "execution_count": 17,
   "id": "e75794bd-6776-4a3f-b24b-7d98c2683b02",
   "metadata": {},
   "outputs": [],
   "source": [
    "# Separating data into two groups based on 'Outcome' column: \n",
    "# 'diabetes_no' for entries with Outcome value 0 and 'diabetes_yes' for entries with Outcome value 1\n",
    "diabetes_no = df[df['Outcome'] == 0]\n",
    "diabetes_yes = df[df['Outcome'] == 1]"
   ]
  },
  {
   "cell_type": "code",
   "execution_count": 18,
   "id": "639ae895-93d0-48ec-9c3c-2054e243c854",
   "metadata": {},
   "outputs": [
    {
     "data": {
      "text/html": [
       "<div>\n",
       "<style scoped>\n",
       "    .dataframe tbody tr th:only-of-type {\n",
       "        vertical-align: middle;\n",
       "    }\n",
       "\n",
       "    .dataframe tbody tr th {\n",
       "        vertical-align: top;\n",
       "    }\n",
       "\n",
       "    .dataframe thead th {\n",
       "        text-align: right;\n",
       "    }\n",
       "</style>\n",
       "<table border=\"1\" class=\"dataframe\">\n",
       "  <thead>\n",
       "    <tr style=\"text-align: right;\">\n",
       "      <th></th>\n",
       "      <th>Pregnancies</th>\n",
       "      <th>Glucose</th>\n",
       "      <th>BloodPressure</th>\n",
       "      <th>SkinThickness</th>\n",
       "      <th>Insulin</th>\n",
       "      <th>BMI</th>\n",
       "      <th>DiabetesPedigreeFunction</th>\n",
       "      <th>Age</th>\n",
       "      <th>Outcome</th>\n",
       "    </tr>\n",
       "  </thead>\n",
       "  <tbody>\n",
       "    <tr>\n",
       "      <th>count</th>\n",
       "      <td>268.000000</td>\n",
       "      <td>268.000000</td>\n",
       "      <td>268.000000</td>\n",
       "      <td>268.000000</td>\n",
       "      <td>268.000000</td>\n",
       "      <td>268.000000</td>\n",
       "      <td>268.000000</td>\n",
       "      <td>268.000000</td>\n",
       "      <td>268.0</td>\n",
       "    </tr>\n",
       "    <tr>\n",
       "      <th>mean</th>\n",
       "      <td>4.865672</td>\n",
       "      <td>141.257463</td>\n",
       "      <td>70.824627</td>\n",
       "      <td>22.164179</td>\n",
       "      <td>100.335821</td>\n",
       "      <td>35.142537</td>\n",
       "      <td>0.550500</td>\n",
       "      <td>37.067164</td>\n",
       "      <td>1.0</td>\n",
       "    </tr>\n",
       "    <tr>\n",
       "      <th>std</th>\n",
       "      <td>3.741239</td>\n",
       "      <td>31.939622</td>\n",
       "      <td>21.491812</td>\n",
       "      <td>17.679711</td>\n",
       "      <td>138.689125</td>\n",
       "      <td>7.262967</td>\n",
       "      <td>0.372354</td>\n",
       "      <td>10.968254</td>\n",
       "      <td>0.0</td>\n",
       "    </tr>\n",
       "    <tr>\n",
       "      <th>min</th>\n",
       "      <td>0.000000</td>\n",
       "      <td>0.000000</td>\n",
       "      <td>0.000000</td>\n",
       "      <td>0.000000</td>\n",
       "      <td>0.000000</td>\n",
       "      <td>0.000000</td>\n",
       "      <td>0.088000</td>\n",
       "      <td>21.000000</td>\n",
       "      <td>1.0</td>\n",
       "    </tr>\n",
       "    <tr>\n",
       "      <th>25%</th>\n",
       "      <td>1.750000</td>\n",
       "      <td>119.000000</td>\n",
       "      <td>66.000000</td>\n",
       "      <td>0.000000</td>\n",
       "      <td>0.000000</td>\n",
       "      <td>30.800000</td>\n",
       "      <td>0.262500</td>\n",
       "      <td>28.000000</td>\n",
       "      <td>1.0</td>\n",
       "    </tr>\n",
       "    <tr>\n",
       "      <th>50%</th>\n",
       "      <td>4.000000</td>\n",
       "      <td>140.000000</td>\n",
       "      <td>74.000000</td>\n",
       "      <td>27.000000</td>\n",
       "      <td>0.000000</td>\n",
       "      <td>34.250000</td>\n",
       "      <td>0.449000</td>\n",
       "      <td>36.000000</td>\n",
       "      <td>1.0</td>\n",
       "    </tr>\n",
       "    <tr>\n",
       "      <th>75%</th>\n",
       "      <td>8.000000</td>\n",
       "      <td>167.000000</td>\n",
       "      <td>82.000000</td>\n",
       "      <td>36.000000</td>\n",
       "      <td>167.250000</td>\n",
       "      <td>38.775000</td>\n",
       "      <td>0.728000</td>\n",
       "      <td>44.000000</td>\n",
       "      <td>1.0</td>\n",
       "    </tr>\n",
       "    <tr>\n",
       "      <th>max</th>\n",
       "      <td>17.000000</td>\n",
       "      <td>199.000000</td>\n",
       "      <td>114.000000</td>\n",
       "      <td>99.000000</td>\n",
       "      <td>846.000000</td>\n",
       "      <td>67.100000</td>\n",
       "      <td>2.420000</td>\n",
       "      <td>70.000000</td>\n",
       "      <td>1.0</td>\n",
       "    </tr>\n",
       "  </tbody>\n",
       "</table>\n",
       "</div>"
      ],
      "text/plain": [
       "       Pregnancies     Glucose  BloodPressure  SkinThickness     Insulin  \\\n",
       "count   268.000000  268.000000     268.000000     268.000000  268.000000   \n",
       "mean      4.865672  141.257463      70.824627      22.164179  100.335821   \n",
       "std       3.741239   31.939622      21.491812      17.679711  138.689125   \n",
       "min       0.000000    0.000000       0.000000       0.000000    0.000000   \n",
       "25%       1.750000  119.000000      66.000000       0.000000    0.000000   \n",
       "50%       4.000000  140.000000      74.000000      27.000000    0.000000   \n",
       "75%       8.000000  167.000000      82.000000      36.000000  167.250000   \n",
       "max      17.000000  199.000000     114.000000      99.000000  846.000000   \n",
       "\n",
       "              BMI  DiabetesPedigreeFunction         Age  Outcome  \n",
       "count  268.000000                268.000000  268.000000    268.0  \n",
       "mean    35.142537                  0.550500   37.067164      1.0  \n",
       "std      7.262967                  0.372354   10.968254      0.0  \n",
       "min      0.000000                  0.088000   21.000000      1.0  \n",
       "25%     30.800000                  0.262500   28.000000      1.0  \n",
       "50%     34.250000                  0.449000   36.000000      1.0  \n",
       "75%     38.775000                  0.728000   44.000000      1.0  \n",
       "max     67.100000                  2.420000   70.000000      1.0  "
      ]
     },
     "execution_count": 18,
     "metadata": {},
     "output_type": "execute_result"
    }
   ],
   "source": [
    "# Display descriptive statistics\n",
    "diabetes_yes.describe()"
   ]
  },
  {
   "cell_type": "code",
   "execution_count": 19,
   "id": "fbc28afa-a2af-4c60-8360-d5cf38fcc6cd",
   "metadata": {},
   "outputs": [
    {
     "data": {
      "text/html": [
       "<div>\n",
       "<style scoped>\n",
       "    .dataframe tbody tr th:only-of-type {\n",
       "        vertical-align: middle;\n",
       "    }\n",
       "\n",
       "    .dataframe tbody tr th {\n",
       "        vertical-align: top;\n",
       "    }\n",
       "\n",
       "    .dataframe thead th {\n",
       "        text-align: right;\n",
       "    }\n",
       "</style>\n",
       "<table border=\"1\" class=\"dataframe\">\n",
       "  <thead>\n",
       "    <tr style=\"text-align: right;\">\n",
       "      <th></th>\n",
       "      <th>Pregnancies</th>\n",
       "      <th>Glucose</th>\n",
       "      <th>BloodPressure</th>\n",
       "      <th>SkinThickness</th>\n",
       "      <th>Insulin</th>\n",
       "      <th>BMI</th>\n",
       "      <th>DiabetesPedigreeFunction</th>\n",
       "      <th>Age</th>\n",
       "      <th>Outcome</th>\n",
       "    </tr>\n",
       "  </thead>\n",
       "  <tbody>\n",
       "    <tr>\n",
       "      <th>count</th>\n",
       "      <td>500.000000</td>\n",
       "      <td>500.0000</td>\n",
       "      <td>500.000000</td>\n",
       "      <td>500.000000</td>\n",
       "      <td>500.000000</td>\n",
       "      <td>500.000000</td>\n",
       "      <td>500.000000</td>\n",
       "      <td>500.000000</td>\n",
       "      <td>500.0</td>\n",
       "    </tr>\n",
       "    <tr>\n",
       "      <th>mean</th>\n",
       "      <td>3.298000</td>\n",
       "      <td>109.9800</td>\n",
       "      <td>68.184000</td>\n",
       "      <td>19.664000</td>\n",
       "      <td>68.792000</td>\n",
       "      <td>30.304200</td>\n",
       "      <td>0.429734</td>\n",
       "      <td>31.190000</td>\n",
       "      <td>0.0</td>\n",
       "    </tr>\n",
       "    <tr>\n",
       "      <th>std</th>\n",
       "      <td>3.017185</td>\n",
       "      <td>26.1412</td>\n",
       "      <td>18.063075</td>\n",
       "      <td>14.889947</td>\n",
       "      <td>98.865289</td>\n",
       "      <td>7.689855</td>\n",
       "      <td>0.299085</td>\n",
       "      <td>11.667655</td>\n",
       "      <td>0.0</td>\n",
       "    </tr>\n",
       "    <tr>\n",
       "      <th>min</th>\n",
       "      <td>0.000000</td>\n",
       "      <td>0.0000</td>\n",
       "      <td>0.000000</td>\n",
       "      <td>0.000000</td>\n",
       "      <td>0.000000</td>\n",
       "      <td>0.000000</td>\n",
       "      <td>0.078000</td>\n",
       "      <td>21.000000</td>\n",
       "      <td>0.0</td>\n",
       "    </tr>\n",
       "    <tr>\n",
       "      <th>25%</th>\n",
       "      <td>1.000000</td>\n",
       "      <td>93.0000</td>\n",
       "      <td>62.000000</td>\n",
       "      <td>0.000000</td>\n",
       "      <td>0.000000</td>\n",
       "      <td>25.400000</td>\n",
       "      <td>0.229750</td>\n",
       "      <td>23.000000</td>\n",
       "      <td>0.0</td>\n",
       "    </tr>\n",
       "    <tr>\n",
       "      <th>50%</th>\n",
       "      <td>2.000000</td>\n",
       "      <td>107.0000</td>\n",
       "      <td>70.000000</td>\n",
       "      <td>21.000000</td>\n",
       "      <td>39.000000</td>\n",
       "      <td>30.050000</td>\n",
       "      <td>0.336000</td>\n",
       "      <td>27.000000</td>\n",
       "      <td>0.0</td>\n",
       "    </tr>\n",
       "    <tr>\n",
       "      <th>75%</th>\n",
       "      <td>5.000000</td>\n",
       "      <td>125.0000</td>\n",
       "      <td>78.000000</td>\n",
       "      <td>31.000000</td>\n",
       "      <td>105.000000</td>\n",
       "      <td>35.300000</td>\n",
       "      <td>0.561750</td>\n",
       "      <td>37.000000</td>\n",
       "      <td>0.0</td>\n",
       "    </tr>\n",
       "    <tr>\n",
       "      <th>max</th>\n",
       "      <td>13.000000</td>\n",
       "      <td>197.0000</td>\n",
       "      <td>122.000000</td>\n",
       "      <td>60.000000</td>\n",
       "      <td>744.000000</td>\n",
       "      <td>57.300000</td>\n",
       "      <td>2.329000</td>\n",
       "      <td>81.000000</td>\n",
       "      <td>0.0</td>\n",
       "    </tr>\n",
       "  </tbody>\n",
       "</table>\n",
       "</div>"
      ],
      "text/plain": [
       "       Pregnancies   Glucose  BloodPressure  SkinThickness     Insulin  \\\n",
       "count   500.000000  500.0000     500.000000     500.000000  500.000000   \n",
       "mean      3.298000  109.9800      68.184000      19.664000   68.792000   \n",
       "std       3.017185   26.1412      18.063075      14.889947   98.865289   \n",
       "min       0.000000    0.0000       0.000000       0.000000    0.000000   \n",
       "25%       1.000000   93.0000      62.000000       0.000000    0.000000   \n",
       "50%       2.000000  107.0000      70.000000      21.000000   39.000000   \n",
       "75%       5.000000  125.0000      78.000000      31.000000  105.000000   \n",
       "max      13.000000  197.0000     122.000000      60.000000  744.000000   \n",
       "\n",
       "              BMI  DiabetesPedigreeFunction         Age  Outcome  \n",
       "count  500.000000                500.000000  500.000000    500.0  \n",
       "mean    30.304200                  0.429734   31.190000      0.0  \n",
       "std      7.689855                  0.299085   11.667655      0.0  \n",
       "min      0.000000                  0.078000   21.000000      0.0  \n",
       "25%     25.400000                  0.229750   23.000000      0.0  \n",
       "50%     30.050000                  0.336000   27.000000      0.0  \n",
       "75%     35.300000                  0.561750   37.000000      0.0  \n",
       "max     57.300000                  2.329000   81.000000      0.0  "
      ]
     },
     "execution_count": 19,
     "metadata": {},
     "output_type": "execute_result"
    }
   ],
   "source": [
    "# Display descriptive statistics\n",
    "diabetes_no.describe()"
   ]
  },
  {
   "cell_type": "markdown",
   "id": "45db85af-b841-4229-adf0-0042f3b785c3",
   "metadata": {},
   "source": [
    "- Average age with diabetes = 37\n",
    "- Average age without diabetes = 31\n",
    "- Average BMI with diabetes = 35\n",
    "- Average BMI without diabetes = 30\n",
    "- Average Blood Glucose with diabetes = 141.25\n",
    "- Average Blood Glucose without diabetes = 109.98\n"
   ]
  },
  {
   "cell_type": "code",
   "execution_count": 20,
   "id": "75b6f12b-29d2-4fe4-8713-01133b95d377",
   "metadata": {},
   "outputs": [
    {
     "data": {
      "image/png": "[encoded data removed]",
      "text/plain": [
       "<Figure size 864x720 with 8 Axes>"
      ]
     },
     "metadata": {
      "needs_background": "light"
     },
     "output_type": "display_data"
    }
   ],
   "source": [
    "# Create subplots with a 4x2 grid layout and set the overall figure size\n",
    "fig, axes = plt.subplots(4, 2, figsize=(12, 10))\n",
    "\n",
    "# Adjust spacing between subplots and set the title for the entire figure\n",
    "fig.subplots_adjust(hspace=0.30, wspace=0.125)\n",
    "fig.suptitle('Data Distribution with Diabetes')\n",
    "\n",
    "# Iterate through the columns of the DataFrame (excluding the last one) to create multiple histogram plots\n",
    "for x in range(len(df.columns[:-1])):\n",
    "    multi_hist_plot(diabetes_yes, df.columns[x], axis_list[x])\n"
   ]
  },
  {
   "cell_type": "code",
   "execution_count": 21,
   "id": "ddd8b814-0fd8-439a-83da-189ddaaa772b",
   "metadata": {},
   "outputs": [
    {
     "data": {
      "image/png": "[encoded data removed]",
      "text/plain": [
       "<Figure size 864x720 with 8 Axes>"
      ]
     },
     "metadata": {
      "needs_background": "light"
     },
     "output_type": "display_data"
    }
   ],
   "source": [
    "# Create subplots with a 4x2 grid layout and set the overall figure size\n",
    "fig, axes = plt.subplots(4, 2, figsize=(12, 10))\n",
    "\n",
    "# Adjust spacing between subplots and set the title for the entire figure\n",
    "fig.subplots_adjust(hspace=0.30, wspace=0.125)\n",
    "fig.suptitle('Data Distribution without Diabetes')\n",
    "\n",
    "# Iterate through the columns of the DataFrame (excluding the last one) to create multiple histogram plots\n",
    "for x in range(len(df.columns[:-1])):\n",
    "    multi_hist_plot(diabetes_no, df.columns[x], axis_list[x])\n"
   ]
  },
  {
   "cell_type": "markdown",
   "id": "29a9ddd5",
   "metadata": {},
   "source": [
    "# Part II : Preprocessing & Feature Engineering"
   ]
  },
  {
   "cell_type": "markdown",
   "id": "0efa25cc",
   "metadata": {},
   "source": [
    "You need to perform preprocessing on the given dataset. Please consider the following tasks and carry out the necessary steps accordingly.\n",
    "- Handling missing values\n",
    "- Handling outliers\n",
    "- Scaling and normalization\n",
    "- Feature Engineering\n",
    "- Handling imbalanced data"
   ]
  },
  {
   "cell_type": "markdown",
   "id": "7a72c3ef-90dd-48d4-9ef9-7f6757b11ed2",
   "metadata": {},
   "source": [
    "**Missing Values**\n",
    "- Pregnancies: 14.45%\n",
    "- Glucose: 0.65%\n",
    "- BloodPressure: 4.56%\n",
    "- SkinThickness: 29.56%\n",
    "- Insulin: 48.7%\n",
    "- BMI: 1.43%\n",
    "\n",
    "Decided to drop Insulin column as almost half the values are missing, and based on an earlier heatmap, there is little correlation between Insulin and the Outcome variable."
   ]
  },
  {
   "cell_type": "code",
   "execution_count": 22,
   "id": "e6b78a63-fe8e-4e60-be28-4fc1f2fc35ab",
   "metadata": {},
   "outputs": [],
   "source": [
    "# Create feature matrix X by dropping 'Outcome' and 'Insulin' columns\n",
    "X = df.drop(columns=['Outcome', 'Insulin'])\n",
    "\n",
    "# Create target variable y containing the values from the 'Outcome' column\n",
    "y = df['Outcome']"
   ]
  },
  {
   "cell_type": "code",
   "execution_count": 23,
   "id": "2c14fb9f-693d-443a-a840-142b170b97ad",
   "metadata": {},
   "outputs": [],
   "source": [
    "# Importing VarianceThreshold\n",
    "from sklearn.feature_selection import VarianceThreshold\n",
    "\n",
    "# Instantiate VarianceThreshold to remove low-variance features (threshold set to 0.1)\n",
    "vt = VarianceThreshold(0.1)\n",
    "\n",
    "# Fit and transform the feature matrix X using VarianceThreshold\n",
    "X_transformed = vt.fit_transform(X)\n",
    "\n",
    "# Get the selected columns after applying the VarianceThreshold\n",
    "selected_columns = X.columns[vt.get_support()]\n",
    "\n",
    "# Update the feature matrix X with only the selected columns\n",
    "X = pd.DataFrame(X_transformed, columns=selected_columns)\n"
   ]
  },
  {
   "cell_type": "code",
   "execution_count": 24,
   "id": "0da6cfb0-91cb-405a-b390-d9454d38851e",
   "metadata": {},
   "outputs": [],
   "source": [
    "# Importing necessary modules and functions for feature selection\n",
    "from sklearn.feature_selection import f_regression, SelectKBest\n",
    "\n",
    "# Instantiate SelectKBest using f_regression as the scoring function\n",
    "skb = SelectKBest(f_regression, k=3)\n",
    "\n",
    "# Fit the SelectKBest object on feature matrix X and target variable y to identify the best features\n",
    "best_features = skb.fit_transform(X, y)\n",
    "\n",
    "# Retrieve the selected features using get_support and identify their column names\n",
    "selected_features = X.columns[skb.get_support()]\n",
    "\n",
    "# Update the feature matrix X with only the selected features\n",
    "X = pd.DataFrame(best_features, columns=selected_features)\n"
   ]
  },
  {
   "cell_type": "code",
   "execution_count": 25,
   "id": "1e76144a-2463-438a-9a80-41d5432c7da5",
   "metadata": {},
   "outputs": [
    {
     "data": {
      "text/html": [
       "<div>\n",
       "<style scoped>\n",
       "    .dataframe tbody tr th:only-of-type {\n",
       "        vertical-align: middle;\n",
       "    }\n",
       "\n",
       "    .dataframe tbody tr th {\n",
       "        vertical-align: top;\n",
       "    }\n",
       "\n",
       "    .dataframe thead th {\n",
       "        text-align: right;\n",
       "    }\n",
       "</style>\n",
       "<table border=\"1\" class=\"dataframe\">\n",
       "  <thead>\n",
       "    <tr style=\"text-align: right;\">\n",
       "      <th></th>\n",
       "      <th>Glucose</th>\n",
       "      <th>BMI</th>\n",
       "      <th>Age</th>\n",
       "    </tr>\n",
       "  </thead>\n",
       "  <tbody>\n",
       "    <tr>\n",
       "      <th>0</th>\n",
       "      <td>148.0</td>\n",
       "      <td>33.6</td>\n",
       "      <td>50.0</td>\n",
       "    </tr>\n",
       "    <tr>\n",
       "      <th>1</th>\n",
       "      <td>85.0</td>\n",
       "      <td>26.6</td>\n",
       "      <td>31.0</td>\n",
       "    </tr>\n",
       "    <tr>\n",
       "      <th>2</th>\n",
       "      <td>183.0</td>\n",
       "      <td>23.3</td>\n",
       "      <td>32.0</td>\n",
       "    </tr>\n",
       "    <tr>\n",
       "      <th>3</th>\n",
       "      <td>89.0</td>\n",
       "      <td>28.1</td>\n",
       "      <td>21.0</td>\n",
       "    </tr>\n",
       "    <tr>\n",
       "      <th>4</th>\n",
       "      <td>137.0</td>\n",
       "      <td>43.1</td>\n",
       "      <td>33.0</td>\n",
       "    </tr>\n",
       "    <tr>\n",
       "      <th>...</th>\n",
       "      <td>...</td>\n",
       "      <td>...</td>\n",
       "      <td>...</td>\n",
       "    </tr>\n",
       "    <tr>\n",
       "      <th>763</th>\n",
       "      <td>101.0</td>\n",
       "      <td>32.9</td>\n",
       "      <td>63.0</td>\n",
       "    </tr>\n",
       "    <tr>\n",
       "      <th>764</th>\n",
       "      <td>122.0</td>\n",
       "      <td>36.8</td>\n",
       "      <td>27.0</td>\n",
       "    </tr>\n",
       "    <tr>\n",
       "      <th>765</th>\n",
       "      <td>121.0</td>\n",
       "      <td>26.2</td>\n",
       "      <td>30.0</td>\n",
       "    </tr>\n",
       "    <tr>\n",
       "      <th>766</th>\n",
       "      <td>126.0</td>\n",
       "      <td>30.1</td>\n",
       "      <td>47.0</td>\n",
       "    </tr>\n",
       "    <tr>\n",
       "      <th>767</th>\n",
       "      <td>93.0</td>\n",
       "      <td>30.4</td>\n",
       "      <td>23.0</td>\n",
       "    </tr>\n",
       "  </tbody>\n",
       "</table>\n",
       "<p>768 rows × 3 columns</p>\n",
       "</div>"
      ],
      "text/plain": [
       "     Glucose   BMI   Age\n",
       "0      148.0  33.6  50.0\n",
       "1       85.0  26.6  31.0\n",
       "2      183.0  23.3  32.0\n",
       "3       89.0  28.1  21.0\n",
       "4      137.0  43.1  33.0\n",
       "..       ...   ...   ...\n",
       "763    101.0  32.9  63.0\n",
       "764    122.0  36.8  27.0\n",
       "765    121.0  26.2  30.0\n",
       "766    126.0  30.1  47.0\n",
       "767     93.0  30.4  23.0\n",
       "\n",
       "[768 rows x 3 columns]"
      ]
     },
     "execution_count": 25,
     "metadata": {},
     "output_type": "execute_result"
    }
   ],
   "source": [
    "X"
   ]
  },
  {
   "cell_type": "code",
   "execution_count": 26,
   "id": "7ee048a3-4a6c-42f8-b6e6-72fcbfef4f04",
   "metadata": {},
   "outputs": [],
   "source": [
    "# Importing the train_test_split function from scikit-learn\n",
    "from sklearn.model_selection import train_test_split\n",
    "\n",
    "# Splitting the data into training and testing sets: X_train, X_test, y_train, y_test\n",
    "# Test size is set to 30% of the data\n",
    "X_train, X_test, y_train, y_test = train_test_split(X, y, test_size=0.30, random_state=42)\n"
   ]
  },
  {
   "cell_type": "code",
   "execution_count": 27,
   "id": "127c1310-5157-4c77-a3de-9830157b2a42",
   "metadata": {},
   "outputs": [],
   "source": [
    "def replace_zeroes(df):\n",
    "    \"\"\"\n",
    "    Replace zero values in specific features of the DataFrame with NaN.\n",
    "\n",
    "    Parameters:\n",
    "    - df: DataFrame in which zero values in selected features will be replaced.\n",
    "    \"\"\"\n",
    "    feature_list = ['Glucose', 'BMI']\n",
    "    for entry in feature_list:\n",
    "        df[entry].replace(0, np.nan, inplace=True)\n"
   ]
  },
  {
   "cell_type": "code",
   "execution_count": 28,
   "id": "d4fba6df-c3c7-4ef5-a38d-cbb5565450f5",
   "metadata": {},
   "outputs": [],
   "source": [
    "# Create a list containing training and testing sets\n",
    "df_list = [X_train, X_test]\n",
    "\n",
    "# Iterate through the list to replace zero values in specific features with NaN\n",
    "for x in range(2):\n",
    "    replace_zeroes(df_list[x])\n"
   ]
  },
  {
   "cell_type": "code",
   "execution_count": 29,
   "id": "ec461675-22d5-4de8-b33f-10fa9a1f6103",
   "metadata": {},
   "outputs": [],
   "source": [
    "# Importing KNNImputer for imputing missing values using K-Nearest Neighbors\n",
    "from sklearn.impute import KNNImputer\n",
    "\n",
    "# Creating a KNNImputer object with 3 nearest neighbors\n",
    "imputer = KNNImputer(n_neighbors=3)\n",
    "\n",
    "# Impute missing values separately for training and testing sets\n",
    "After_imputation_train = imputer.fit_transform(X_train)\n",
    "After_imputation_test = imputer.fit_transform(X_test)\n",
    "\n",
    "# Update the training and testing sets with imputed values, ensuring the columns remain the same\n",
    "X_train = pd.DataFrame(After_imputation_train, columns=X_train.columns)\n",
    "X_test = pd.DataFrame(After_imputation_test, columns=X_test.columns)\n"
   ]
  },
  {
   "cell_type": "code",
   "execution_count": 30,
   "id": "0e106ea0-9284-485f-9d4d-b250c284da4c",
   "metadata": {},
   "outputs": [
    {
     "name": "stdout",
     "output_type": "stream",
     "text": [
      "Glucose : 0.5800562129899696\n",
      "BMI : 0.6363506399190686\n",
      "Age : 1.1693076371600555\n"
     ]
    }
   ],
   "source": [
    "# Calculate and print the skewness for each feature in the X_train dataset\n",
    "for feature in X_train.columns:\n",
    "    print(f'{feature} : {X_train[feature].skew()}')"
   ]
  },
  {
   "cell_type": "markdown",
   "id": "d28efd20-09d9-44b6-a51d-47a721032962",
   "metadata": {},
   "source": [
    "   **Skewness**\n",
    "- Glucose : 0.5800562129899696\n",
    "- BMI : 0.6363506399190686\n",
    "- Age : 1.1693076371600555"
   ]
  },
  {
   "cell_type": "code",
   "execution_count": 56,
   "id": "b5db5572-661b-4407-aff6-7693987428b7",
   "metadata": {},
   "outputs": [],
   "source": [
    "def iqr_high(df, feature):\n",
    "    \"\"\"\n",
    "    Calculate the upper bound outlier threshold using the IQR (Interquartile Range) method for a specific feature.\n",
    "\n",
    "    Parameters:\n",
    "    - df: DataFrame containing the data.\n",
    "    - feature: Name of the feature (column) in the DataFrame.\n",
    "\n",
    "    Returns:\n",
    "    - high: Upper bound threshold for outlier detection based on the IQR method.\n",
    "    \"\"\"\n",
    "    q1 = df[feature].quantile(0.25)\n",
    "    q3 = df[feature].quantile(0.75)\n",
    "    iqr = q3 - q1\n",
    "    high = q3 + 1.5 * iqr\n",
    "    return high\n",
    "\n",
    "\n",
    "\n",
    "def iqr_low(df, feature):\n",
    "    \"\"\"\n",
    "    Calculate the lower bound outlier threshold using the IQR (Interquartile Range) method.\n",
    "\n",
    "    Parameters:\n",
    "    - df: DataFrame containing the data.\n",
    "    - feature: Name of the feature (column) in the training set (X_train).\n",
    "\n",
    "    Returns:\n",
    "    - low: Lower bound threshold for outlier detection based on the IQR method.\n",
    "    \"\"\"\n",
    "    q1 = df[feature].quantile(0.25)\n",
    "    q3 = df[feature].quantile(0.75)\n",
    "    iqr = q3 - q1\n",
    "    low = q1 - 1.5 * iqr\n",
    "    return low\n"
   ]
  },
  {
   "cell_type": "code",
   "execution_count": 32,
   "id": "650fb2df-a757-44bc-9e4b-5d9600c4ac3c",
   "metadata": {},
   "outputs": [],
   "source": [
    "# List of features for outlier treatment\n",
    "feature_list = ['Glucose', 'BMI']\n",
    "\n",
    "# Iterate through specified features to handle outliers\n",
    "for feature in feature_list:\n",
    "    # Calculate the median for the specific feature in the training and test sets\n",
    "    train_median = X_train[feature].median()\n",
    "    test_median = X_test[feature].median()\n",
    "    \n",
    "    # Replace values higher than the upper outlier threshold with the feature's median in both sets\n",
    "    X_train.loc[X_train[feature] > iqr_high(X_train, feature), feature] = train_median\n",
    "    X_test.loc[X_test[feature] > iqr_high(X_test, feature), feature] = test_median\n",
    "    \n",
    "    # Replace values lower than the lower outlier threshold with the feature's median in both sets\n",
    "    X_train.loc[X_train[feature] < iqr_low(X_train, feature), feature] = train_median\n",
    "    X_test.loc[X_test[feature] < iqr_low(X_test, feature), feature] = test_median\n"
   ]
  },
  {
   "cell_type": "markdown",
   "id": "c117d931-c5fb-4783-92f7-233a7dc74f1e",
   "metadata": {},
   "source": [
    "- replaced outliers with the median on all columns except for the Age column as it has what i would consider to be valid/realistic outliers"
   ]
  },
  {
   "cell_type": "code",
   "execution_count": 65,
   "id": "e01228ce-1fe7-4c83-908a-f5567963f4a5",
   "metadata": {},
   "outputs": [],
   "source": [
    "# Importing StandardScaler for feature scaling\n",
    "from sklearn.preprocessing import StandardScaler\n",
    "\n",
    "# Instantiate separate StandardScaler objects for training and test sets\n",
    "train_scaler = StandardScaler()\n",
    "test_scaler = StandardScaler()\n",
    "\n",
    "# Scale the training set (X_train) and transform its features using the training scaler\n",
    "X_train_scaled = train_scaler.fit_transform(X_train)\n",
    "\n",
    "# Update the X_train DataFrame with scaled features using the training scaler\n",
    "X_train = pd.DataFrame(data=X_train_scaled, columns=X_train.columns)\n",
    "\n",
    "# Scale the test set (X_test) using its dedicated scaler and transform its features\n",
    "X_test_scaled = test_scaler.fit_transform(X_test)\n",
    "\n",
    "# Update the X_test DataFrame with scaled features using the test scaler\n",
    "X_test = pd.DataFrame(data=X_test_scaled, columns=X_test.columns)\n"
   ]
  },
  {
   "cell_type": "code",
   "execution_count": 64,
   "id": "e7849ea3-14e2-4c61-82f2-185a2a090d80",
   "metadata": {},
   "outputs": [
    {
     "data": {
      "text/html": [
       "<div>\n",
       "<style scoped>\n",
       "    .dataframe tbody tr th:only-of-type {\n",
       "        vertical-align: middle;\n",
       "    }\n",
       "\n",
       "    .dataframe tbody tr th {\n",
       "        vertical-align: top;\n",
       "    }\n",
       "\n",
       "    .dataframe thead th {\n",
       "        text-align: right;\n",
       "    }\n",
       "</style>\n",
       "<table border=\"1\" class=\"dataframe\">\n",
       "  <thead>\n",
       "    <tr style=\"text-align: right;\">\n",
       "      <th></th>\n",
       "      <th>Glucose</th>\n",
       "      <th>BMI</th>\n",
       "      <th>Age</th>\n",
       "    </tr>\n",
       "  </thead>\n",
       "  <tbody>\n",
       "    <tr>\n",
       "      <th>0</th>\n",
       "      <td>-0.894489</td>\n",
       "      <td>-1.245532</td>\n",
       "      <td>-0.948610</td>\n",
       "    </tr>\n",
       "    <tr>\n",
       "      <th>1</th>\n",
       "      <td>-0.559243</td>\n",
       "      <td>0.736173</td>\n",
       "      <td>-0.434667</td>\n",
       "    </tr>\n",
       "    <tr>\n",
       "      <th>2</th>\n",
       "      <td>0.446495</td>\n",
       "      <td>1.559342</td>\n",
       "      <td>-0.777296</td>\n",
       "    </tr>\n",
       "    <tr>\n",
       "      <th>3</th>\n",
       "      <td>0.312397</td>\n",
       "      <td>0.156905</td>\n",
       "      <td>-0.434667</td>\n",
       "    </tr>\n",
       "    <tr>\n",
       "      <th>4</th>\n",
       "      <td>-0.626292</td>\n",
       "      <td>1.711781</td>\n",
       "      <td>-0.006380</td>\n",
       "    </tr>\n",
       "    <tr>\n",
       "      <th>...</th>\n",
       "      <td>...</td>\n",
       "      <td>...</td>\n",
       "      <td>...</td>\n",
       "    </tr>\n",
       "    <tr>\n",
       "      <th>532</th>\n",
       "      <td>0.580594</td>\n",
       "      <td>-0.529070</td>\n",
       "      <td>-0.605981</td>\n",
       "    </tr>\n",
       "    <tr>\n",
       "      <th>533</th>\n",
       "      <td>-0.860965</td>\n",
       "      <td>-1.474191</td>\n",
       "      <td>-0.520324</td>\n",
       "    </tr>\n",
       "    <tr>\n",
       "      <th>534</th>\n",
       "      <td>-0.693342</td>\n",
       "      <td>2.062391</td>\n",
       "      <td>0.421906</td>\n",
       "    </tr>\n",
       "    <tr>\n",
       "      <th>535</th>\n",
       "      <td>0.647643</td>\n",
       "      <td>1.574586</td>\n",
       "      <td>-0.349009</td>\n",
       "    </tr>\n",
       "    <tr>\n",
       "      <th>536</th>\n",
       "      <td>0.111249</td>\n",
       "      <td>-1.458947</td>\n",
       "      <td>-1.034268</td>\n",
       "    </tr>\n",
       "  </tbody>\n",
       "</table>\n",
       "<p>537 rows × 3 columns</p>\n",
       "</div>"
      ],
      "text/plain": [
       "      Glucose       BMI       Age\n",
       "0   -0.894489 -1.245532 -0.948610\n",
       "1   -0.559243  0.736173 -0.434667\n",
       "2    0.446495  1.559342 -0.777296\n",
       "3    0.312397  0.156905 -0.434667\n",
       "4   -0.626292  1.711781 -0.006380\n",
       "..        ...       ...       ...\n",
       "532  0.580594 -0.529070 -0.605981\n",
       "533 -0.860965 -1.474191 -0.520324\n",
       "534 -0.693342  2.062391  0.421906\n",
       "535  0.647643  1.574586 -0.349009\n",
       "536  0.111249 -1.458947 -1.034268\n",
       "\n",
       "[537 rows x 3 columns]"
      ]
     },
     "execution_count": 64,
     "metadata": {},
     "output_type": "execute_result"
    }
   ],
   "source": [
    "X_train"
   ]
  },
  {
   "cell_type": "markdown",
   "id": "5702ddcf",
   "metadata": {},
   "source": [
    "# Part III : Training ML Model"
   ]
  },
  {
   "cell_type": "markdown",
   "id": "ecca0ccc",
   "metadata": {},
   "source": [
    "For this task, you are required to build a machine learning model to predict the outcome variable. This will be a binary classification task, as the target variable is binary. You should select at least two models, one of which should be an ensemble model, and compare their performance.\n",
    "\n",
    "- Train the models: Train the selected models on the training set.\n",
    "- Model evaluation: Evaluate the trained models on the testing set using appropriate evaluation metrics, such as accuracy, precision, recall, F1-score, and ROC-AUC.\n",
    "- Model comparison: Compare the performance of the selected models and choose the best-performing model based on the evaluation metrics. You can also perform additional analysis, such as model tuning and cross-validation, to improve the model's performance."
   ]
  },
  {
   "cell_type": "code",
   "execution_count": 66,
   "id": "39675d6b",
   "metadata": {},
   "outputs": [],
   "source": [
    "from sklearn.linear_model import LogisticRegression\n",
    "from sklearn.metrics import roc_auc_score, recall_score, precision_score, f1_score, accuracy_score, confusion_matrix\n",
    "import warnings"
   ]
  },
  {
   "cell_type": "code",
   "execution_count": 67,
   "id": "6581b4d3-183b-4091-a23a-7eb2f9cea970",
   "metadata": {},
   "outputs": [
    {
     "data": {
      "text/html": [
       "<style>#sk-container-id-4 {color: black;}#sk-container-id-4 pre{padding: 0;}#sk-container-id-4 div.sk-toggleable {background-color: white;}#sk-container-id-4 label.sk-toggleable__label {cursor: pointer;display: block;width: 100%;margin-bottom: 0;padding: 0.3em;box-sizing: border-box;text-align: center;}#sk-container-id-4 label.sk-toggleable__label-arrow:before {content: \"▸\";float: left;margin-right: 0.25em;color: #696969;}#sk-container-id-4 label.sk-toggleable__label-arrow:hover:before {color: black;}#sk-container-id-4 div.sk-estimator:hover label.sk-toggleable__label-arrow:before {color: black;}#sk-container-id-4 div.sk-toggleable__content {max-height: 0;max-width: 0;overflow: hidden;text-align: left;background-color: #f0f8ff;}#sk-container-id-4 div.sk-toggleable__content pre {margin: 0.2em;color: black;border-radius: 0.25em;background-color: #f0f8ff;}#sk-container-id-4 input.sk-toggleable__control:checked~div.sk-toggleable__content {max-height: 200px;max-width: 100%;overflow: auto;}#sk-container-id-4 input.sk-toggleable__control:checked~label.sk-toggleable__label-arrow:before {content: \"▾\";}#sk-container-id-4 div.sk-estimator input.sk-toggleable__control:checked~label.sk-toggleable__label {background-color: #d4ebff;}#sk-container-id-4 div.sk-label input.sk-toggleable__control:checked~label.sk-toggleable__label {background-color: #d4ebff;}#sk-container-id-4 input.sk-hidden--visually {border: 0;clip: rect(1px 1px 1px 1px);clip: rect(1px, 1px, 1px, 1px);height: 1px;margin: -1px;overflow: hidden;padding: 0;position: absolute;width: 1px;}#sk-container-id-4 div.sk-estimator {font-family: monospace;background-color: #f0f8ff;border: 1px dotted black;border-radius: 0.25em;box-sizing: border-box;margin-bottom: 0.5em;}#sk-container-id-4 div.sk-estimator:hover {background-color: #d4ebff;}#sk-container-id-4 div.sk-parallel-item::after {content: \"\";width: 100%;border-bottom: 1px solid gray;flex-grow: 1;}#sk-container-id-4 div.sk-label:hover label.sk-toggleable__label {background-color: #d4ebff;}#sk-container-id-4 div.sk-serial::before {content: \"\";position: absolute;border-left: 1px solid gray;box-sizing: border-box;top: 0;bottom: 0;left: 50%;z-index: 0;}#sk-container-id-4 div.sk-serial {display: flex;flex-direction: column;align-items: center;background-color: white;padding-right: 0.2em;padding-left: 0.2em;position: relative;}#sk-container-id-4 div.sk-item {position: relative;z-index: 1;}#sk-container-id-4 div.sk-parallel {display: flex;align-items: stretch;justify-content: center;background-color: white;position: relative;}#sk-container-id-4 div.sk-item::before, #sk-container-id-4 div.sk-parallel-item::before {content: \"\";position: absolute;border-left: 1px solid gray;box-sizing: border-box;top: 0;bottom: 0;left: 50%;z-index: -1;}#sk-container-id-4 div.sk-parallel-item {display: flex;flex-direction: column;z-index: 1;position: relative;background-color: white;}#sk-container-id-4 div.sk-parallel-item:first-child::after {align-self: flex-end;width: 50%;}#sk-container-id-4 div.sk-parallel-item:last-child::after {align-self: flex-start;width: 50%;}#sk-container-id-4 div.sk-parallel-item:only-child::after {width: 0;}#sk-container-id-4 div.sk-dashed-wrapped {border: 1px dashed gray;margin: 0 0.4em 0.5em 0.4em;box-sizing: border-box;padding-bottom: 0.4em;background-color: white;}#sk-container-id-4 div.sk-label label {font-family: monospace;font-weight: bold;display: inline-block;line-height: 1.2em;}#sk-container-id-4 div.sk-label-container {text-align: center;}#sk-container-id-4 div.sk-container {/* jupyter's `normalize.less` sets `[hidden] { display: none; }` but bootstrap.min.css set `[hidden] { display: none !important; }` so we also need the `!important` here to be able to override the default hidden behavior on the sphinx rendered scikit-learn.org. See: https://github.com/scikit-learn/scikit-learn/issues/21755 */display: inline-block !important;position: relative;}#sk-container-id-4 div.sk-text-repr-fallback {display: none;}</style><div id=\"sk-container-id-4\" class=\"sk-top-container\"><div class=\"sk-text-repr-fallback\"><pre>LogisticRegression()</pre><b>In a Jupyter environment, please rerun this cell to show the HTML representation or trust the notebook. <br />On GitHub, the HTML representation is unable to render, please try loading this page with nbviewer.org.</b></div><div class=\"sk-container\" hidden><div class=\"sk-item\"><div class=\"sk-estimator sk-toggleable\"><input class=\"sk-toggleable__control sk-hidden--visually\" id=\"sk-estimator-id-4\" type=\"checkbox\" checked><label for=\"sk-estimator-id-4\" class=\"sk-toggleable__label sk-toggleable__label-arrow\">LogisticRegression</label><div class=\"sk-toggleable__content\"><pre>LogisticRegression()</pre></div></div></div></div></div>"
      ],
      "text/plain": [
       "LogisticRegression()"
      ]
     },
     "execution_count": 67,
     "metadata": {},
     "output_type": "execute_result"
    }
   ],
   "source": [
    "diabetes_lr = LogisticRegression()\n",
    "diabetes_lr.fit(X_train, y_train)"
   ]
  },
  {
   "cell_type": "code",
   "execution_count": 68,
   "id": "30815e63-0736-437d-8b74-490436b8c162",
   "metadata": {},
   "outputs": [],
   "source": [
    "y_prob = diabetes_lr.predict_proba(X_test)[:, 1]\n",
    "y_pred = diabetes_lr.predict(X_test)"
   ]
  },
  {
   "cell_type": "code",
   "execution_count": 69,
   "id": "93fba772-720f-4547-9dba-c0fbd59de303",
   "metadata": {},
   "outputs": [
    {
     "name": "stdout",
     "output_type": "stream",
     "text": [
      "AUC = 0.77401\n",
      "Accuracy = 0.72294\n",
      "Precision = 0.61111\n",
      "Recall = 0.55000\n",
      "F1 score = 0.57895\n",
      "[[123  28]\n",
      " [ 36  44]]\n"
     ]
    }
   ],
   "source": [
    "print('AUC = {:.5f}'.format(roc_auc_score(y_test, y_prob)))\n",
    "print('Accuracy = {:.5f}'.format(accuracy_score(y_test, y_pred)))\n",
    "print('Precision = {:.5f}'.format(precision_score(y_test, y_pred)))\n",
    "print('Recall = {:.5f}'.format(recall_score(y_test, y_pred)))\n",
    "print('F1 score = {:.5f}'.format(f1_score(y_test, y_pred)))\n",
    "print(confusion_matrix(y_test, y_pred))"
   ]
  },
  {
   "cell_type": "code",
   "execution_count": 70,
   "id": "82e23949-f9eb-408b-912b-b83ef6626550",
   "metadata": {},
   "outputs": [],
   "source": [
    "params = [    \n",
    "    {'penalty' : ['l1', 'l2', 'elasticnet', None],\n",
    "    'C' : np.logspace(-4, 4, 20),\n",
    "    'solver' : ['lbfgs','newton-cg','liblinear','sag','saga'],\n",
    "    'max_iter' : [100, 500, 1000, 1500, 2500, 5000]\n",
    "    }\n",
    "]"
   ]
  },
  {
   "cell_type": "code",
   "execution_count": 71,
   "id": "8a806c37-d651-41f6-947c-e5d47957324d",
   "metadata": {},
   "outputs": [
    {
     "name": "stdout",
     "output_type": "stream",
     "text": [
      "Fitting 3 folds for each of 2400 candidates, totalling 7200 fits\n"
     ]
    }
   ],
   "source": [
    "from sklearn.model_selection import GridSearchCV\n",
    "log_grid = GridSearchCV(diabetes_lr, param_grid = params, cv = 3, verbose=True)\n",
    "with warnings.catch_warnings():\n",
    "    warnings.simplefilter(\"ignore\")\n",
    "    best_log = log_grid.fit(X_train,y_train)"
   ]
  },
  {
   "cell_type": "code",
   "execution_count": 72,
   "id": "8f861ddc-eda3-4082-a562-0b8d7619e254",
   "metadata": {},
   "outputs": [
    {
     "data": {
      "text/plain": [
       "{'C': 0.03359818286283781, 'max_iter': 100, 'penalty': 'l2', 'solver': 'lbfgs'}"
      ]
     },
     "execution_count": 72,
     "metadata": {},
     "output_type": "execute_result"
    }
   ],
   "source": [
    "best_log.best_params_"
   ]
  },
  {
   "cell_type": "code",
   "execution_count": 73,
   "id": "cc35dd04-7c77-4933-9e8a-8b65e7cdd26f",
   "metadata": {},
   "outputs": [],
   "source": [
    "best_lg = best_log.best_estimator_"
   ]
  },
  {
   "cell_type": "code",
   "execution_count": null,
   "id": "a79bc284-40bc-40e3-9692-d71c8e7fc0b0",
   "metadata": {},
   "outputs": [],
   "source": []
  },
  {
   "cell_type": "code",
   "execution_count": 75,
   "id": "f06e8487-89dc-45d6-9613-96306f251ae4",
   "metadata": {},
   "outputs": [],
   "source": [
    "best_lg_prob = best_lg.predict_proba(X_test)[:, 1]\n",
    "best_lg_pred = best_lg.predict(X_test)"
   ]
  },
  {
   "cell_type": "code",
   "execution_count": 76,
   "id": "d3ba773d-58dd-40f3-a1e1-019358c8f156",
   "metadata": {},
   "outputs": [
    {
     "name": "stdout",
     "output_type": "stream",
     "text": [
      "AUC = 0.77376\n",
      "Accuracy = 0.73160\n",
      "Precision = 0.63636\n",
      "Recall = 0.52500\n",
      "F1 score = 0.57534\n",
      "[[127  24]\n",
      " [ 38  42]]\n"
     ]
    }
   ],
   "source": [
    "print('AUC = {:.5f}'.format(roc_auc_score(y_test, best_lg_prob)))\n",
    "print('Accuracy = {:.5f}'.format(accuracy_score(y_test, best_lg_pred)))\n",
    "print('Precision = {:.5f}'.format(precision_score(y_test, best_lg_pred)))\n",
    "print('Recall = {:.5f}'.format(recall_score(y_test, best_lg_pred)))\n",
    "print('F1 score = {:.5f}'.format(f1_score(y_test, best_lg_pred)))\n",
    "print(confusion_matrix(y_test, best_lg_pred))"
   ]
  },
  {
   "cell_type": "code",
   "execution_count": null,
   "id": "5cb2eff5-59c0-439b-be03-5c70200d725b",
   "metadata": {},
   "outputs": [],
   "source": []
  },
  {
   "cell_type": "code",
   "execution_count": 77,
   "id": "6e7d7481-b05d-44b3-9af4-083f22d99223",
   "metadata": {},
   "outputs": [],
   "source": [
    "from sklearn.ensemble import RandomForestClassifier"
   ]
  },
  {
   "cell_type": "code",
   "execution_count": 78,
   "id": "e90e94b9-027e-4a9d-b385-a1dde5ee1ba1",
   "metadata": {},
   "outputs": [],
   "source": [
    "diabetes_rfc = RandomForestClassifier(n_estimators=100, max_depth=5)"
   ]
  },
  {
   "cell_type": "code",
   "execution_count": 79,
   "id": "b697df09-2bfa-48c2-8fba-0bc764e772d3",
   "metadata": {},
   "outputs": [
    {
     "data": {
      "text/html": [
       "<style>#sk-container-id-6 {color: black;}#sk-container-id-6 pre{padding: 0;}#sk-container-id-6 div.sk-toggleable {background-color: white;}#sk-container-id-6 label.sk-toggleable__label {cursor: pointer;display: block;width: 100%;margin-bottom: 0;padding: 0.3em;box-sizing: border-box;text-align: center;}#sk-container-id-6 label.sk-toggleable__label-arrow:before {content: \"▸\";float: left;margin-right: 0.25em;color: #696969;}#sk-container-id-6 label.sk-toggleable__label-arrow:hover:before {color: black;}#sk-container-id-6 div.sk-estimator:hover label.sk-toggleable__label-arrow:before {color: black;}#sk-container-id-6 div.sk-toggleable__content {max-height: 0;max-width: 0;overflow: hidden;text-align: left;background-color: #f0f8ff;}#sk-container-id-6 div.sk-toggleable__content pre {margin: 0.2em;color: black;border-radius: 0.25em;background-color: #f0f8ff;}#sk-container-id-6 input.sk-toggleable__control:checked~div.sk-toggleable__content {max-height: 200px;max-width: 100%;overflow: auto;}#sk-container-id-6 input.sk-toggleable__control:checked~label.sk-toggleable__label-arrow:before {content: \"▾\";}#sk-container-id-6 div.sk-estimator input.sk-toggleable__control:checked~label.sk-toggleable__label {background-color: #d4ebff;}#sk-container-id-6 div.sk-label input.sk-toggleable__control:checked~label.sk-toggleable__label {background-color: #d4ebff;}#sk-container-id-6 input.sk-hidden--visually {border: 0;clip: rect(1px 1px 1px 1px);clip: rect(1px, 1px, 1px, 1px);height: 1px;margin: -1px;overflow: hidden;padding: 0;position: absolute;width: 1px;}#sk-container-id-6 div.sk-estimator {font-family: monospace;background-color: #f0f8ff;border: 1px dotted black;border-radius: 0.25em;box-sizing: border-box;margin-bottom: 0.5em;}#sk-container-id-6 div.sk-estimator:hover {background-color: #d4ebff;}#sk-container-id-6 div.sk-parallel-item::after {content: \"\";width: 100%;border-bottom: 1px solid gray;flex-grow: 1;}#sk-container-id-6 div.sk-label:hover label.sk-toggleable__label {background-color: #d4ebff;}#sk-container-id-6 div.sk-serial::before {content: \"\";position: absolute;border-left: 1px solid gray;box-sizing: border-box;top: 0;bottom: 0;left: 50%;z-index: 0;}#sk-container-id-6 div.sk-serial {display: flex;flex-direction: column;align-items: center;background-color: white;padding-right: 0.2em;padding-left: 0.2em;position: relative;}#sk-container-id-6 div.sk-item {position: relative;z-index: 1;}#sk-container-id-6 div.sk-parallel {display: flex;align-items: stretch;justify-content: center;background-color: white;position: relative;}#sk-container-id-6 div.sk-item::before, #sk-container-id-6 div.sk-parallel-item::before {content: \"\";position: absolute;border-left: 1px solid gray;box-sizing: border-box;top: 0;bottom: 0;left: 50%;z-index: -1;}#sk-container-id-6 div.sk-parallel-item {display: flex;flex-direction: column;z-index: 1;position: relative;background-color: white;}#sk-container-id-6 div.sk-parallel-item:first-child::after {align-self: flex-end;width: 50%;}#sk-container-id-6 div.sk-parallel-item:last-child::after {align-self: flex-start;width: 50%;}#sk-container-id-6 div.sk-parallel-item:only-child::after {width: 0;}#sk-container-id-6 div.sk-dashed-wrapped {border: 1px dashed gray;margin: 0 0.4em 0.5em 0.4em;box-sizing: border-box;padding-bottom: 0.4em;background-color: white;}#sk-container-id-6 div.sk-label label {font-family: monospace;font-weight: bold;display: inline-block;line-height: 1.2em;}#sk-container-id-6 div.sk-label-container {text-align: center;}#sk-container-id-6 div.sk-container {/* jupyter's `normalize.less` sets `[hidden] { display: none; }` but bootstrap.min.css set `[hidden] { display: none !important; }` so we also need the `!important` here to be able to override the default hidden behavior on the sphinx rendered scikit-learn.org. See: https://github.com/scikit-learn/scikit-learn/issues/21755 */display: inline-block !important;position: relative;}#sk-container-id-6 div.sk-text-repr-fallback {display: none;}</style><div id=\"sk-container-id-6\" class=\"sk-top-container\"><div class=\"sk-text-repr-fallback\"><pre>RandomForestClassifier(max_depth=5)</pre><b>In a Jupyter environment, please rerun this cell to show the HTML representation or trust the notebook. <br />On GitHub, the HTML representation is unable to render, please try loading this page with nbviewer.org.</b></div><div class=\"sk-container\" hidden><div class=\"sk-item\"><div class=\"sk-estimator sk-toggleable\"><input class=\"sk-toggleable__control sk-hidden--visually\" id=\"sk-estimator-id-6\" type=\"checkbox\" checked><label for=\"sk-estimator-id-6\" class=\"sk-toggleable__label sk-toggleable__label-arrow\">RandomForestClassifier</label><div class=\"sk-toggleable__content\"><pre>RandomForestClassifier(max_depth=5)</pre></div></div></div></div></div>"
      ],
      "text/plain": [
       "RandomForestClassifier(max_depth=5)"
      ]
     },
     "execution_count": 79,
     "metadata": {},
     "output_type": "execute_result"
    }
   ],
   "source": [
    "diabetes_rfc.fit(X_train, y_train)"
   ]
  },
  {
   "cell_type": "code",
   "execution_count": 80,
   "id": "d2cdf36d-6675-4b64-83b0-b1f4824b6056",
   "metadata": {},
   "outputs": [],
   "source": [
    "rfc_prob = diabetes_rfc.predict_proba(X_test)[:, 1]\n",
    "rfc_pred = diabetes_rfc.predict(X_test)"
   ]
  },
  {
   "cell_type": "code",
   "execution_count": 81,
   "id": "de347887-b733-42fb-af85-e297a4292a48",
   "metadata": {},
   "outputs": [
    {
     "name": "stdout",
     "output_type": "stream",
     "text": [
      "AUC = 0.80116\n",
      "Accuracy = 0.75325\n",
      "Precision = 0.64935\n",
      "Recall = 0.62500\n",
      "F1 score = 0.63694\n",
      "[[124  27]\n",
      " [ 30  50]]\n"
     ]
    }
   ],
   "source": [
    "print('AUC = {:.5f}'.format(roc_auc_score(y_test, rfc_prob)))\n",
    "print('Accuracy = {:.5f}'.format(accuracy_score(y_test, rfc_pred)))\n",
    "print('Precision = {:.5f}'.format(precision_score(y_test, rfc_pred)))\n",
    "print('Recall = {:.5f}'.format(recall_score(y_test, rfc_pred)))\n",
    "print('F1 score = {:.5f}'.format(f1_score(y_test, rfc_pred)))\n",
    "print(confusion_matrix(y_test, rfc_pred))"
   ]
  },
  {
   "cell_type": "code",
   "execution_count": 82,
   "id": "ebaac188-5d0d-4ca1-a909-d38c3fbf6edd",
   "metadata": {},
   "outputs": [],
   "source": [
    "rfc_params = {'n_estimators':[10, 25, 50, 100, 150, 200, 250, 300, 350, 2000],\n",
    "              'criterion':['gini', 'entropy', 'log_loss'],\n",
    "              'max_depth':[1,2,3,4,5,6,7,8,9,10]}"
   ]
  },
  {
   "cell_type": "code",
   "execution_count": 83,
   "id": "215b9001-ccb2-4035-a38d-7dfb8b23f271",
   "metadata": {},
   "outputs": [],
   "source": [
    "rfc_grid = GridSearchCV(diabetes_rfc, param_grid = rfc_params, cv = 4, verbose=True)"
   ]
  },
  {
   "cell_type": "code",
   "execution_count": 52,
   "id": "edf79bee-7f1c-4c5a-bcb8-8e01683b5910",
   "metadata": {},
   "outputs": [
    {
     "name": "stdout",
     "output_type": "stream",
     "text": [
      "Fitting 4 folds for each of 300 candidates, totalling 1200 fits\n"
     ]
    }
   ],
   "source": [
    "best_rfc = rfc_grid.fit(X_train, y_train)"
   ]
  },
  {
   "cell_type": "code",
   "execution_count": 53,
   "id": "a94aa181-8111-49bf-9ad1-3697bc7f84e8",
   "metadata": {},
   "outputs": [],
   "source": [
    "best_randomforest = best_rfc.best_estimator_"
   ]
  },
  {
   "cell_type": "code",
   "execution_count": null,
   "id": "fad13844-7b14-4ca9-a476-98e9f080a35a",
   "metadata": {},
   "outputs": [],
   "source": []
  },
  {
   "cell_type": "code",
   "execution_count": 54,
   "id": "296a833e-8d8d-4bdd-9e04-eb67f3a9bc1b",
   "metadata": {},
   "outputs": [],
   "source": [
    "best_rfc_prob = best_randomforest.predict_proba(X_test)[:, 1]\n",
    "best_rfc_pred = best_randomforest.predict(X_test)"
   ]
  },
  {
   "cell_type": "code",
   "execution_count": 55,
   "id": "75c2c762-46f8-4aaf-b517-77e9612a609b",
   "metadata": {},
   "outputs": [
    {
     "name": "stdout",
     "output_type": "stream",
     "text": [
      "AUC = 0.78994\n",
      "Accuracy = 0.74459\n",
      "Precision = 0.67797\n",
      "Recall = 0.50000\n",
      "F1 score = 0.57554\n",
      "[[132  19]\n",
      " [ 40  40]]\n"
     ]
    }
   ],
   "source": [
    "print('AUC = {:.5f}'.format(roc_auc_score(y_test, best_rfc_prob)))\n",
    "print('Accuracy = {:.5f}'.format(accuracy_score(y_test, best_rfc_pred)))\n",
    "print('Precision = {:.5f}'.format(precision_score(y_test, best_rfc_pred)))\n",
    "print('Recall = {:.5f}'.format(recall_score(y_test, best_rfc_pred)))\n",
    "print('F1 score = {:.5f}'.format(f1_score(y_test, best_rfc_pred)))\n",
    "print(confusion_matrix(y_test, best_rfc_pred))"
   ]
  },
  {
   "cell_type": "markdown",
   "id": "142ed923",
   "metadata": {},
   "source": [
    "# Part IV : Conclusion"
   ]
  },
  {
   "cell_type": "markdown",
   "id": "8aaec134",
   "metadata": {},
   "source": [
    "From the machine learning models developed and the exploratory data analysis (EDA) conducted, generate four bullet points as your findings."
   ]
  },
  {
   "cell_type": "code",
   "execution_count": null,
   "id": "70263c25",
   "metadata": {},
   "outputs": [],
   "source": []
  }
 ],
 "metadata": {
  "kernelspec": {
   "display_name": "Python 3 (ipykernel)",
   "language": "python",
   "name": "python3"
  },
  "language_info": {
   "codemirror_mode": {
    "name": "ipython",
    "version": 3
   },
   "file_extension": ".py",
   "mimetype": "text/x-python",
   "name": "python",
   "nbconvert_exporter": "python",
   "pygments_lexer": "ipython3",
   "version": "3.9.16"
  }
 },
 "nbformat": 4,
 "nbformat_minor": 5
}
